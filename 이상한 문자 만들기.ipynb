{
  "cells": [
    {
      "cell_type": "markdown",
      "source": [
        "https://school.programmers.co.kr/learn/courses/30/lessons/12930"
      ],
      "metadata": {
        "id": "8AzpKlY-k3X5"
      }
    },
    {
      "cell_type": "code",
      "source": [
        "def solution1(s):\n",
        "    words = s.split()\n",
        "    answer = []\n",
        "    for i in words:\n",
        "        new_word = ''\n",
        "        for j in range(len(i)):\n",
        "            if j % 2 == 0:\n",
        "                new_word += i[j].upper()\n",
        "            else:\n",
        "                new_word += i[j].lower()\n",
        "        answer.append(new_word)\n",
        "    return ' '.join(answer)\n",
        "\n",
        "s = \"try  hello   world\"\n",
        "print(solution1(s))\n",
        "\n",
        "#공백의 숫자를 고려하지 않아서 틀렸음. 공백까지 출력이 되어야함"
      ],
      "metadata": {
        "id": "GyaLlHMNdx4f",
        "outputId": "bcc40d0b-4dc0-4ca3-a37a-bfedc90f25a7",
        "colab": {
          "base_uri": "https://localhost:8080/"
        }
      },
      "execution_count": 31,
      "outputs": [
        {
          "output_type": "stream",
          "name": "stdout",
          "text": [
            "TrY HeLlO WoRlD\n"
          ]
        }
      ]
    },
    {
      "cell_type": "code",
      "source": [
        "def solution2(s):\n",
        "    answer = ''\n",
        "    count = 0\n",
        "    for i in s:\n",
        "        if i ==' ':\n",
        "            answer += ' '\n",
        "            count = 0\n",
        "            continue\n",
        "        count+=1\n",
        "        if count % 2 != 0:\n",
        "            answer += i.upper()\n",
        "        else :\n",
        "            answer += i.lower()\n",
        "\n",
        "    return answer\n",
        "\n",
        "print(solution2(s))"
      ],
      "metadata": {
        "id": "SIwEcJ3ni2kx",
        "outputId": "3fdbf2ed-f8ce-453f-8fdc-9d446d7eaace",
        "colab": {
          "base_uri": "https://localhost:8080/"
        }
      },
      "execution_count": 32,
      "outputs": [
        {
          "output_type": "stream",
          "name": "stdout",
          "text": [
            "TrY  HeLlO   WoRlD\n"
          ]
        }
      ]
    }
  ],
  "metadata": {
    "colab": {
      "name": "scratchpad",
      "provenance": []
    },
    "kernelspec": {
      "display_name": "Python 3",
      "name": "python3"
    }
  },
  "nbformat": 4,
  "nbformat_minor": 0
}